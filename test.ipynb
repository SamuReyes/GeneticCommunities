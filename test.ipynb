{
 "cells": [
  {
   "cell_type": "code",
   "execution_count": 1,
   "metadata": {},
   "outputs": [],
   "source": [
    "from nsga import NSGA\n",
    "import networkx as nx\n",
    "import matplotlib.pyplot as plt"
   ]
  },
  {
   "cell_type": "code",
   "execution_count": null,
   "metadata": {},
   "outputs": [],
   "source": [
    "# Carga del grafo\n",
    "graph = nx.read_graphml(\"data/amazon_graph.graphml\")\n",
    "\n",
    "# Renombramos los nodos al rango [0, N]\n",
    "mapping = {node: i for i, node in enumerate(graph.nodes())}\n",
    "graph = nx.relabel_nodes(graph, mapping)"
   ]
  },
  {
   "cell_type": "code",
   "execution_count": null,
   "metadata": {},
   "outputs": [],
   "source": [
    "es = NSGA(graph, N=100, init=0.5, pcross=0.5, pmut=0.3, n_iter=100, fitness_metrics=0, n_tour=4, crossover_op=2)\n",
    "es.evolve()"
   ]
  },
  {
   "cell_type": "code",
   "execution_count": null,
   "metadata": {},
   "outputs": [],
   "source": [
    "len(es.pop)"
   ]
  },
  {
   "cell_type": "code",
   "execution_count": 2,
   "metadata": {},
   "outputs": [],
   "source": [
    "def moga_fast_non_dominated_sort(self, fitness: list[float]) -> list[list[int]]:\n",
    "    \"\"\" Returns a list of Pareto fronts, including empty levels of dominance \"\"\"\n",
    "    domination_counts = [0] * len(self.pop)\n",
    "    dominated_solutions = [set() for _ in self.pop]\n",
    "    max_dominance = 0\n",
    "\n",
    "    # Identifying the dominance relationships\n",
    "    for p in range(len(fitness)):\n",
    "        for q in range(len(fitness)):\n",
    "            if p != q:\n",
    "                if self.dominates(fitness[p], fitness[q]):\n",
    "                    dominated_solutions[p].add(q)\n",
    "                elif self.dominates(fitness[q], fitness[p]):\n",
    "                    domination_counts[p] += 1\n",
    "\n",
    "        max_dominance = max(max_dominance, domination_counts[p])\n",
    "\n",
    "    # Initializing the fronts list with empty lists\n",
    "    fronts = [[] for _ in range(max_dominance + 2)]\n",
    "\n",
    "    # Assigning solutions to the appropriate front\n",
    "    for idx, count in enumerate(domination_counts):\n",
    "        fronts[count].append(self.pop[idx])\n",
    "\n",
    "    return fronts[:-1]"
   ]
  },
  {
   "cell_type": "code",
   "execution_count": 3,
   "metadata": {},
   "outputs": [],
   "source": [
    "def dominates(individual1:float, individual2:float) -> bool:\n",
    "    \"\"\" Devuelve True si individual1 domina a individual2 \"\"\"\n",
    "    return all(x >= y for x, y in zip(individual1, individual2)) and any(x > y for x, y in zip(individual1, individual2))"
   ]
  },
  {
   "cell_type": "code",
   "execution_count": 37,
   "metadata": {},
   "outputs": [],
   "source": [
    "pop = [\"A\", \"B\", \"C\", \"D\", \"E\", \"F\", \"G\"]\n",
    "# [             A,          B,          C,          D,          E,          F,       G      ]\n",
    "fitness = [[0.9, 0.1], [0.7, 0.4], [0.5, 0.7], [0.2, 0.8], [0.4, 0.3], [0.3, 0.6], [0, 0]]"
   ]
  },
  {
   "cell_type": "code",
   "execution_count": 10,
   "metadata": {},
   "outputs": [],
   "source": [
    "def moga_fast_non_dominated_sort(fitness: list[float]) -> list[list[int]]:\n",
    "    \"\"\" Returns a list of Pareto fronts, including empty levels of dominance \"\"\"\n",
    "    domination_counts = [0] * len(pop)\n",
    "    dominated_solutions = [set() for _ in pop]\n",
    "    max_dominance = 0\n",
    "\n",
    "    # Identifying the dominance relationships\n",
    "    for p in range(len(fitness)):\n",
    "        for q in range(len(fitness)):\n",
    "            if p != q:\n",
    "                if dominates(fitness[p], fitness[q]):\n",
    "                    dominated_solutions[p].add(q)\n",
    "                elif dominates(fitness[q], fitness[p]):\n",
    "                    domination_counts[p] += 1\n",
    "\n",
    "        max_dominance = max(max_dominance, domination_counts[p])\n",
    "\n",
    "    # Initializing the fronts list with empty lists\n",
    "    fronts = [[] for _ in range(max_dominance + 2)]\n",
    "\n",
    "    # Assigning solutions to the appropriate front\n",
    "    for idx, count in enumerate(domination_counts):\n",
    "        \n",
    "        # fronts[count].append(pop[idx])\n",
    "        fronts[count].append(idx)\n",
    "\n",
    "    return fronts[:-1]"
   ]
  },
  {
   "cell_type": "code",
   "execution_count": 11,
   "metadata": {},
   "outputs": [
    {
     "data": {
      "text/plain": [
       "[[0, 1, 2, 3], [5], [4], [], [], [], [6]]"
      ]
     },
     "execution_count": 11,
     "metadata": {},
     "output_type": "execute_result"
    }
   ],
   "source": [
    "fronts = moga_fast_non_dominated_sort(fitness)\n",
    "fronts"
   ]
  },
  {
   "cell_type": "code",
   "execution_count": 23,
   "metadata": {},
   "outputs": [],
   "source": [
    "pareto = fronts"
   ]
  },
  {
   "cell_type": "code",
   "execution_count": 73,
   "metadata": {},
   "outputs": [],
   "source": [
    "def sharing_function(distance, sigma = 0.8):\n",
    "    if distance < sigma:\n",
    "        return 1 - (distance / sigma)\n",
    "    else:\n",
    "        return 0\n",
    "\n",
    "def calculate_distance(individual1, individual2):\n",
    "    distance_pow_2 = (fitness[individual1][0] - fitness[individual2][0])**2 + (fitness[individual1][1] - fitness[individual2][1])**2\n",
    "    distance = distance_pow_2**0.5\n",
    "    return distance\n",
    "\n",
    "def adjusted_fitness(individual, population, sigma):\n",
    "    shared_fitness = 0\n",
    "    for other_individual in population:\n",
    "        if individual != other_individual:\n",
    "            distance = calculate_distance(individual, other_individual)\n",
    "            shared_fitness += sharing_function(distance, sigma)\n",
    "    \n",
    "    return Fi[individual] / shared_fitness"
   ]
  },
  {
   "cell_type": "code",
   "execution_count": 74,
   "metadata": {},
   "outputs": [],
   "source": [
    "pop = [\"A\", \"B\", \"C\", \"D\", \"E\", \"F\", \"G\"]\n",
    "# [             A,          B,          C,          D,          E,          F,       G      ]\n",
    "fitness = [[0.9, 0.1], [0.7, 0.4], [0.5, 0.7], [0.2, 0.8], [0.4, 0.3], [0.3, 0.6], [0, 0]]\n",
    "\n"
   ]
  },
  {
   "cell_type": "code",
   "execution_count": 75,
   "metadata": {},
   "outputs": [
    {
     "ename": "ZeroDivisionError",
     "evalue": "float division by zero",
     "output_type": "error",
     "traceback": [
      "\u001b[1;31m---------------------------------------------------------------------------\u001b[0m",
      "\u001b[1;31mZeroDivisionError\u001b[0m                         Traceback (most recent call last)",
      "Cell \u001b[1;32mIn[75], line 3\u001b[0m\n\u001b[0;32m      1\u001b[0m \u001b[38;5;28;01mfor\u001b[39;00m front \u001b[38;5;129;01min\u001b[39;00m pareto:\n\u001b[0;32m      2\u001b[0m     \u001b[38;5;28;01mfor\u001b[39;00m f \u001b[38;5;129;01min\u001b[39;00m front:\n\u001b[1;32m----> 3\u001b[0m         \u001b[38;5;28mprint\u001b[39m(adjusted_fitness(f, front, \u001b[38;5;241m0.1\u001b[39m))\n",
      "Cell \u001b[1;32mIn[73], line 19\u001b[0m, in \u001b[0;36madjusted_fitness\u001b[1;34m(individual, population, sigma)\u001b[0m\n\u001b[0;32m     16\u001b[0m         distance \u001b[38;5;241m=\u001b[39m calculate_distance(individual, other_individual)\n\u001b[0;32m     17\u001b[0m         shared_fitness \u001b[38;5;241m+\u001b[39m\u001b[38;5;241m=\u001b[39m sharing_function(distance, sigma)\n\u001b[1;32m---> 19\u001b[0m \u001b[38;5;28;01mreturn\u001b[39;00m Fi[individual] \u001b[38;5;241m/\u001b[39m shared_fitness\n",
      "\u001b[1;31mZeroDivisionError\u001b[0m: float division by zero"
     ]
    }
   ],
   "source": [
    "for front in pareto:\n",
    "    for f in front:\n",
    "        print(adjusted_fitness(f, front, 0.1))\n"
   ]
  },
  {
   "cell_type": "code",
   "execution_count": 62,
   "metadata": {},
   "outputs": [
    {
     "data": {
      "text/plain": [
       "[7.0, 7.0, 7.0, 7.0, 1.0, 2.5, -2.0]"
      ]
     },
     "execution_count": 62,
     "metadata": {},
     "output_type": "execute_result"
    }
   ],
   "source": [
    "# Fi = N - 0.5(μ(ri) - 1) - Σμ(k)\n",
    "# N: tamaño de la población\n",
    "# μ(ri): rango del individuo i\n",
    "# Σμ(k): Nº de individuos con rangos inferiores al individuo i\n",
    "\n",
    "N = len(pop)\n",
    "Fi = [0.0] * N\n",
    "Σμ_k = 0\n",
    "\n",
    "for μ_ri, front in enumerate(pareto):\n",
    "    \n",
    "    # Fi = N - 0.5(μ(ri) - 1) - Σμ(k)\n",
    "    for i_value in front:\n",
    "        Fi[i_value] = N - 0.5 * ((μ_ri+1) - 1) - Σμ_k\n",
    "        \n",
    "    Σμ_k += len(front)\n",
    "\n",
    "Fi"
   ]
  },
  {
   "cell_type": "code",
   "execution_count": 40,
   "metadata": {},
   "outputs": [
    {
     "name": "stdout",
     "output_type": "stream",
     "text": [
      "0 [0.9, 0.1]\n",
      "1 [0.7, 0.4]\n",
      "2 [0.5, 0.7]\n",
      "3 [0.2, 0.8]\n"
     ]
    }
   ],
   "source": [
    "for front in pareto:\n",
    "    for i_value in front:\n",
    "        print (i_value, fitness[i_value])\n",
    "    break"
   ]
  },
  {
   "cell_type": "code",
   "execution_count": 22,
   "metadata": {},
   "outputs": [
    {
     "data": {
      "text/plain": [
       "3.7"
      ]
     },
     "execution_count": 22,
     "metadata": {},
     "output_type": "execute_result"
    }
   ],
   "source": [
    "data = [[0.8, 1.2], [4.5, 3.7], [0.6, 0.6]]\n",
    "max_value = max(item[0] for item in data)\n",
    "max_value\n"
   ]
  },
  {
   "cell_type": "code",
   "execution_count": null,
   "metadata": {},
   "outputs": [],
   "source": []
  }
 ],
 "metadata": {
  "kernelspec": {
   "display_name": "base",
   "language": "python",
   "name": "python3"
  },
  "language_info": {
   "codemirror_mode": {
    "name": "ipython",
    "version": 3
   },
   "file_extension": ".py",
   "mimetype": "text/x-python",
   "name": "python",
   "nbconvert_exporter": "python",
   "pygments_lexer": "ipython3",
   "version": "3.11.5"
  }
 },
 "nbformat": 4,
 "nbformat_minor": 2
}
