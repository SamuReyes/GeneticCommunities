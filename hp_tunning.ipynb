{
 "cells": [
  {
   "cell_type": "markdown",
   "metadata": {},
   "source": [
    "## Pruebas que habría que hacer\n",
    "\n",
    "- Para cada algoritmo: \n",
    "    - Búsqueda de hiperparámetros con cada par de métricas de fitness\n",
    "    - Búsqueda de hiperparámetros con diferentes proporciones de población/iteraciones (50k llamadas a la función de fitness es el máximo)\n",
    "\n",
    "Una vez realizada la búsqueda, quedarse con os mejores frentes de cada par de métricas y algoritmo (8 en total) y se hace el estudio comparativo con el ground truth (parte C)\n"
   ]
  },
  {
   "cell_type": "markdown",
   "metadata": {},
   "source": [
    "Para comparar Paretos se puede utilizar la medida de volumen del area que forma."
   ]
  },
  {
   "cell_type": "code",
   "execution_count": 1,
   "metadata": {},
   "outputs": [],
   "source": [
    "from nsga import NSGA\n",
    "from moga import MOGA\n",
    "import networkx as nx\n",
    "import itertools\n",
    "from concurrent.futures import ProcessPoolExecutor, as_completed\n",
    "import numpy as np\n",
    "from scipy.spatial import ConvexHull"
   ]
  },
  {
   "cell_type": "code",
   "execution_count": 2,
   "metadata": {},
   "outputs": [],
   "source": [
    "# Carga del grafo\n",
    "graph = nx.read_graphml(\"data/amazon_graph.graphml\")\n",
    "\n",
    "# Renombramos los nodos al rango [0, N]\n",
    "mapping = {node: i for i, node in enumerate(graph.nodes())}\n",
    "graph = nx.relabel_nodes(graph, mapping)\n"
   ]
  },
  {
   "cell_type": "code",
   "execution_count": 3,
   "metadata": {},
   "outputs": [],
   "source": [
    "def run_experiment(combination, num_experiments):\n",
    "    area_sum = 0\n",
    "    max_area = 0\n",
    "    best_front_individuals = None\n",
    "\n",
    "    for _ in range(num_experiments):\n",
    "        estrategia = MOGA(graph, *combination)\n",
    "        pop, old_pop, fitness, pareto = estrategia.evolve()\n",
    "\n",
    "        # Seleccionamos los valores de fitness del frente de pareto\n",
    "        selected_fitness = [fitness[i] for i in pareto]\n",
    "\n",
    "    # Calculamos el area bajo los puntos del frente de pareto\n",
    "        points = np.array(selected_fitness) \n",
    "\n",
    "        # Añadir (0,0) como punto de referencia\n",
    "        points = np.vstack((points, [0, 0]))\n",
    "\n",
    "        # Minimo 3 puntos para calcular convex hull\n",
    "        if len(points) > 2:\n",
    "            hull = ConvexHull(points)\n",
    "            # Calcular area bajo el convex Hull\n",
    "            area = hull.area\n",
    "\n",
    "        # Si hay menos de 3 puntos (incluyendo (0, 0)), el area es 0\n",
    "        else:\n",
    "            area = 0\n",
    "    \n",
    "        if area > max_area:\n",
    "            # Guardamos el area mas grande\n",
    "            max_area = area\n",
    "            # Guardamos la poblacion con el area mas grande\n",
    "            best_front_individuals = [old_pop[i] for i in pareto]\n",
    "            \n",
    "        area_sum += area\n",
    "\n",
    "    average_area = area_sum / num_experiments\n",
    "    \n",
    "    return combination, average_area, max_area, best_front_individuals"
   ]
  },
  {
   "cell_type": "code",
   "execution_count": 5,
   "metadata": {},
   "outputs": [],
   "source": [
    "#NSGA-II / MOGA\n",
    "N = [100]\n",
    "init = [0, 0.5, 1]\n",
    "pcross= [0.5, 0.7]\n",
    "pmut = [0.3, 0.5]\n",
    "# n_iter= [500]\n",
    "n_iter= [1]\n",
    "fitness_metrics= [0]\n",
    "n_tour = [2,4,8]\n",
    "crossover_op=[0,1,2]\n",
    "\n",
    "#MOGA\n",
    "sigma = [0.2, 0.5, 0.8]"
   ]
  },
  {
   "cell_type": "markdown",
   "metadata": {},
   "source": [
    "### Concurrent"
   ]
  },
  {
   "cell_type": "code",
   "execution_count": null,
   "metadata": {},
   "outputs": [],
   "source": [
    "# Define el número de veces que cada configuración será ejecutada\n",
    "num_experiments = 10\n",
    "\n",
    "# Crear todas las combinaciones posibles de hiperparámetros\n",
    "all_combinations = list(itertools.product(\n",
    "    N, init, pcross, pmut, n_iter, fitness_metrics, n_tour, crossover_op, sigma\n",
    "))\n",
    "\n",
    "# Almacenar los resultados\n",
    "results = []\n",
    "\n",
    "# Paralelizar la ejecución\n",
    "with ProcessPoolExecutor() as executor:\n",
    "    # Iniciar las ejecuciones en paralelo\n",
    "    future_to_combination = {executor.submit(run_experiment, combination, num_experiments): combination for combination in all_combinations}\n",
    "\n",
    "    total_combinations = len(all_combinations)\n",
    "    completed_combinations = 0\n",
    "    \n",
    "    for future in as_completed(future_to_combination):\n",
    "        combination, average_area, max_area, best_front_individuals = future.result()\n",
    "        results.append((combination, average_area, max_area, best_front_individuals))\n",
    "\n",
    "        completed_combinations += 1\n",
    "        print(f\"Combinación completada. Progreso: {completed_combinations}/{total_combinations}\")\n",
    "        print(f\"Combinación de parámetros: {combination}\")\n",
    "        print(f\"Área media de paretos: {average_area}\")\n",
    "        print(f\"Pareto con área máxima: {max_area}\")"
   ]
  },
  {
   "cell_type": "markdown",
   "metadata": {},
   "source": [
    "### Non concurrent"
   ]
  },
  {
   "cell_type": "code",
   "execution_count": null,
   "metadata": {},
   "outputs": [],
   "source": [
    "# Define el número de veces que cada configuración será ejecutada\n",
    "num_experiments = 2\n",
    "results = []\n",
    "\n",
    "# Crear todas las combinaciones posibles de hiperparámetros\n",
    "all_combinations = list(itertools.product(\n",
    "    N, init, pcross, pmut, n_iter, fitness_metrics, n_tour, crossover_op, sigma\n",
    "))\n",
    "\n",
    "total_combinations = len(all_combinations)\n",
    "completed_combinations = 0\n",
    "\n",
    "best_average_area = 0\n",
    "best_average_combination = None\n",
    "\n",
    "best_max_area = 0\n",
    "best_max_combination = None\n",
    "\n",
    "\n",
    "for combination in all_combinations:\n",
    "    combination, average_area, max_area, best_front_individuals = run_experiment(combination, num_experiments)\n",
    "\n",
    "    results.append((combination, average_area, max_area, best_front_individuals))\n",
    "    completed_combinations += 1\n",
    "    print(f\"Combinación completada. Progreso: {completed_combinations}/{total_combinations}\")\n",
    "    print(f\"Combinación de parámetros: {combination}\")\n",
    "    print(f\"Área media de paretos: {average_area}\")\n",
    "    print(f\"Pareto con área máxima: {max_area}\")\n",
    "\n",
    "    if average_area > best_average_area:\n",
    "        best_average_combination = [combination, average_area, max_area, best_front_individuals]\n",
    "    \n",
    "    if max_area > best_max_area:\n",
    "        best_max_combination = [combination, average_area, max_area, best_front_individuals]"
   ]
  }
 ],
 "metadata": {
  "kernelspec": {
   "display_name": "automatic",
   "language": "python",
   "name": "python3"
  },
  "language_info": {
   "codemirror_mode": {
    "name": "ipython",
    "version": 3
   },
   "file_extension": ".py",
   "mimetype": "text/x-python",
   "name": "python",
   "nbconvert_exporter": "python",
   "pygments_lexer": "ipython3",
   "version": "3.11.5"
  }
 },
 "nbformat": 4,
 "nbformat_minor": 2
}
