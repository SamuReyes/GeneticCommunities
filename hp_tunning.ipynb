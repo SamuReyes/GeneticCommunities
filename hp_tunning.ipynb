{
 "cells": [
  {
   "cell_type": "markdown",
   "metadata": {},
   "source": [
    "## Pruebas que habría que hacer\n",
    "\n",
    "- Para cada algoritmo: \n",
    "    - Búsqueda de hiperparámetros con cada par de métricas de fitness\n",
    "    - Búsqueda de hiperparámetros con diferentes proporciones de población/iteraciones (50k llamadas a la función de fitness es el máximo)\n",
    "\n",
    "Una vez realizada la búsqueda, quedarse con os mejores frentes de cada par de métricas y algoritmo (8 en total) y se hace el estudio comparativo con el ground truth (parte C)\n"
   ]
  },
  {
   "cell_type": "markdown",
   "metadata": {},
   "source": [
    "Para comparar Paretos se puede utilizar la medida de volumen del area que forma."
   ]
  },
  {
   "cell_type": "code",
   "execution_count": 4,
   "metadata": {},
   "outputs": [],
   "source": [
    "from nsga import NSGA\n",
    "from moga import MOGA\n",
    "import networkx as nx\n",
    "import itertools\n",
    "from concurrent.futures import ProcessPoolExecutor, as_completed"
   ]
  },
  {
   "cell_type": "code",
   "execution_count": 9,
   "metadata": {},
   "outputs": [],
   "source": [
    "N = [100]\n",
    "init = [0, 0.5, 1]\n",
    "pcross= [0.5, 0.7]\n",
    "pmut = [0.3, 0.5]\n",
    "n_iter= [500]\n",
    "fitness_metrics= [0]\n",
    "n_tour = [2,4,8]\n",
    "crossover_op=[0,1,2]"
   ]
  },
  {
   "cell_type": "code",
   "execution_count": null,
   "metadata": {},
   "outputs": [],
   "source": [
    "# Carga del grafo\n",
    "graph = nx.read_graphml(\"data/amazon_graph.graphml\")\n",
    "\n",
    "# Renombramos los nodos al rango [0, N]\n",
    "mapping = {node: i for i, node in enumerate(graph.nodes())}\n",
    "graph = nx.relabel_nodes(graph, mapping)\n"
   ]
  },
  {
   "cell_type": "code",
   "execution_count": null,
   "metadata": {},
   "outputs": [],
   "source": [
    "def run_experiment(combination):\n",
    "    value_sum = 0\n",
    "    weight_exceeded = 0\n",
    "    max_value = 0\n",
    "    for _ in range(num_experiments):\n",
    "        estrategia = MOGA(graph, *combination)\n",
    "        pop, old_fitness, pareto = estrategia.evolve()\n",
    "\n",
    "        #! HAY QUE DISEÑAR UNA FUNCIÓN QUE CALCULE EL AREA DEL PARETO Y DEVOLVER LA MEDIA DE LOS EXPERIMENTOS\n",
    "        \n",
    "\n",
    "# Define el número de veces que cada configuración será ejecutada\n",
    "num_experiments = 10\n",
    "\n",
    "# Crear todas las combinaciones posibles de hiperparámetros\n",
    "all_combinations = list(itertools.product(\n",
    "    N, init, pcross, pmut, n_iter, fitness_metrics, n_tour, crossover_op\n",
    "))\n",
    "\n",
    "# Almacenar los resultados\n",
    "results = []\n",
    "\n",
    "# Paralelizar la ejecución\n",
    "with ProcessPoolExecutor() as executor:\n",
    "    # Iniciar las ejecuciones en paralelo\n",
    "    future_to_combination = {executor.submit(run_experiment, combination): combination for combination in all_combinations}\n",
    "\n",
    "    total_combinations = len(all_combinations)\n",
    "    completed_combinations = 0\n",
    "    #! REVISAR ESTO CUANDO ESTÉ CREADA LA FUNCIÓN DE AREA\n",
    "    for future in as_completed(future_to_combination):\n",
    "        combination, average_value, max_value, weight_exceeded = future.result()\n",
    "        results.append((combination, average_value, max_value, weight_exceeded))\n",
    "\n",
    "        completed_combinations += 1\n",
    "        print(f\"Combinación completada: {completed_combinations}/{total_combinations} - {combination} - {average_value} - {max_value} - {weight_exceeded}\")\n"
   ]
  }
 ],
 "metadata": {
  "kernelspec": {
   "display_name": "automatic",
   "language": "python",
   "name": "python3"
  },
  "language_info": {
   "codemirror_mode": {
    "name": "ipython",
    "version": 3
   },
   "file_extension": ".py",
   "mimetype": "text/x-python",
   "name": "python",
   "nbconvert_exporter": "python",
   "pygments_lexer": "ipython3",
   "version": "3.10.13"
  }
 },
 "nbformat": 4,
 "nbformat_minor": 2
}
